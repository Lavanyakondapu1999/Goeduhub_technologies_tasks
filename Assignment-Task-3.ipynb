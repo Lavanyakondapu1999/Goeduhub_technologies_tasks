{
 "cells": [
  {
   "cell_type": "markdown",
   "metadata": {},
   "source": [
    "# GO_STP_5823"
   ]
  },
  {
   "cell_type": "markdown",
   "metadata": {},
   "source": [
    "**1.Write a Python Program to sort (ascending and descending) a dictionary by value.** \n"
   ]
  },
  {
   "cell_type": "code",
   "execution_count": 1,
   "metadata": {},
   "outputs": [],
   "source": [
    "import operator\n",
    "a = {'A':5,'B':4,'C':2,'D':6,'E':3}\n",
    "ascending_order = sorted(a.items(), key=operator.itemgetter(1))\n",
    "print('Ascending Order Is : ',ascending_order)\n",
    "descending_order = sorted(a.items(), key=operator.itemgetter(1), reverse=True)\n",
    "print('Descending Order Is : ',descending_order)\n",
    " \n"
   ]
  },
  {
   "cell_type": "markdown",
   "metadata": {},
   "source": [
    "**2.Write a Python Program to add a key to a dictionary.**\n",
    "* Sample Dictionary : {0: 10, 1: 20}\n",
    "* Expected Result : {0: 10, 1: 20, 2: 30}"
   ]
  },
  {
   "cell_type": "code",
   "execution_count": 2,
   "metadata": {},
   "outputs": [
    {
     "data": {
      "text/plain": [
       "{'0': 10, '1': 20, '2': 30}"
      ]
     },
     "execution_count": 2,
     "metadata": {},
     "output_type": "execute_result"
    }
   ],
   "source": [
    "x = {'0':10,'1':20}\n",
    "x.update({'2':30})\n",
    "x"
   ]
  },
  {
   "cell_type": "markdown",
   "metadata": {},
   "source": [
    "**3.Write a  program asks for City name and Temperature and builds a dictionary using that Later on you can input City name and it will tell you the Temperature of that City.**"
   ]
  },
  {
   "cell_type": "code",
   "execution_count": 4,
   "metadata": {},
   "outputs": [
    {
     "name": "stdout",
     "output_type": "stream",
     "text": [
      "Enter The Number Of Cities : 2\n",
      "Enter A Name Of The City : vijayawada\n",
      "Enter The Temperature In Celcious Of The City : 50\n",
      "Enter A Name Of The City : vizag\n",
      "Enter The Temperature In Celcious Of The City : 40\n",
      "Created Dictionary Is :  {'vijayawada': 50, 'vizag': 40}\n",
      "Enter Name Of The City To Check Temperature Of It : vijayawada\n",
      "Temperature Of The City Is :  50\n"
     ]
    }
   ],
   "source": [
    "dic = dict()\n",
    "n = int(input('Enter The Number Of Cities : '))\n",
    "for i in range(n):\n",
    "    city = input('Enter A Name Of The City : ')\n",
    "    temp = int(input('Enter The Temperature In Celcious Of The City : '))\n",
    "    dic[city] = temp\n",
    "print('Created Dictionary Is : ',dic)\n",
    "city_name = input('Enter Name Of The City To Check Temperature Of It : ')\n",
    "print('Temperature Of The City Is : ',dic[city_name])"
   ]
  },
  {
   "cell_type": "markdown",
   "metadata": {},
   "source": [
    "**4.Write a Python program to convert list to list of dictionaries.**\n",
    "\n",
    "Sample lists: [\"Black\", \"Red\", \"Maroon\", \"Yellow\"], [\"#000000\", \"#FF0000\", \"#800000\", \"#FFFF00\"]\n",
    "\n",
    "Expected Output: [{'color_name': 'Black', 'color_code': '#000000'}, {'color_name': 'Red', 'color_code': '#FF0000'}, {'color_name': 'Maroon', 'color_code': '#800000'}, {'color_name': 'Yellow', 'color_code': '#FFFF00'}]"
   ]
  },
  {
   "cell_type": "code",
   "execution_count": 5,
   "metadata": {},
   "outputs": [
    {
     "name": "stdout",
     "output_type": "stream",
     "text": [
      "[{'color_name': 'Black', 'color_code': '#000000'}, {'color_name': 'Red', 'color_code': '#FF0000'}, {'color_name': 'Maroon', 'color_code': '#800000'}, {'color_name': 'Yellow', 'color_code': '#FFFF00'}]\n"
     ]
    }
   ],
   "source": [
    " color_name= [\"Black\", \"Red\", \"Maroon\", \"Yellow\"]\n",
    "\n",
    "color_code= [\"#000000\", \"#FF0000\", \"#800000\", \"#FFFF00\"]\n",
    "\n",
    "print([{'color_name':n,'color_code':c }for n,c in zip(color_name,color_code)])"
   ]
  },
  {
   "cell_type": "markdown",
   "metadata": {},
   "source": [
    "**5.We have following information on Employees and their Salary (Salary is in lakhs),**"
   ]
  },
  {
   "cell_type": "markdown",
   "metadata": {},
   "source": [
    "\n",
    "Employee\tSalary\n",
    "John\t    14\n",
    "Smith\t    13\n",
    "Alice\t    32\n",
    "Daneil\t    21\n"
   ]
  },
  {
   "cell_type": "raw",
   "metadata": {},
   "source": [
    "1.Using above create a dictionary of Employees and their Salary\n",
    "2.Write a program that asks user for three type of inputs,\n",
    "a.print:\n",
    "if user enter print then it should print all Employees with their Salary in this format,\n",
    " John ==>14\n",
    " Smith ==>13\n",
    " Alice ==>32\n",
    " Daneil ==>21\n",
    "b.add:\n",
    "if user input adds then it should further ask for an Employee name to add. If Employee already exists in our dataset then it should print that it exists and do nothing. If it doesn't then it asks for Salary and add that new Employee/Salary in our dictionary and print it\n",
    "c.remove:\n",
    "when user inputs remove it should ask for an Employee to remove. If an Employee exists in our dictionary then remove it and print a new dictionary using format shown above in (a). Else print that Employee doesn't exist!\n",
    "query: on this again ask the user for which Employee he or she wants to query. When a user inputs that Employee it will print the Salary of that Employee."
   ]
  },
  {
   "cell_type": "code",
   "execution_count": 6,
   "metadata": {},
   "outputs": [
    {
     "name": "stdout",
     "output_type": "stream",
     "text": [
      "Data Of Employee And Their Salaries\n",
      "Which One To Display From This Data (Print\\Add\\Remove\\Query) : Print\n",
      "John ==> 1400000\n",
      "Smith ==> 1300000\n",
      "Alice ==> 3200000\n",
      "Daniel ==> 3200000\n"
     ]
    }
   ],
   "source": [
    "data = {'John':1400000,\n",
    "        'Smith':1300000,\n",
    "        'Alice':3200000, \n",
    "        'Daniel':3200000}\n",
    "print('Data Of Employee And Their Salaries')\n",
    "user_input = input('Which one to display from this data (Print\\Add\\Remove\\Query) : '.title())\n",
    "if user_input=='Print':\n",
    "    for i in data.items():\n",
    "        print(i[0],'==>',i[1])\n",
    "elif user_input == 'Add':\n",
    "    new_name = input('Enter Name Of New Employee : ')\n",
    "    if new_name in data.keys():\n",
    "        print('This Name Is Already In Data')\n",
    "    else:\n",
    "        new_sal = int(input('Enter  Salary Of Employee : '))\n",
    "        data[new_name]=new_sal\n",
    "    for j in data.items():\n",
    "        print(j[0],'==>',j[1])\n",
    "elif user_input == 'Remove':\n",
    "    rem = input('Enter  Employee Name To Remove : ')\n",
    "    if rem in data:\n",
    "        del data[rem]\n",
    "        for k in data.items():\n",
    "            print(k[0],'==>',k[1])\n",
    "    else:\n",
    "          print('Employee Does Not Exist')\n",
    "elif user_input == 'Query':\n",
    "    quer = input('Enter The Name Of The Employee Wants To Query')\n",
    "    if quer in data:\n",
    "        print(data[quer])\n",
    "    else:\n",
    "        print('The Name Does Not Exist')\n",
    "else:\n",
    "    print('Enter Only Valid Input')"
   ]
  },
  {
   "cell_type": "markdown",
   "metadata": {},
   "source": [
    "**Questions on Sets-**\n",
    "\n",
    " 1.**What is the difference between a set and a frozenset? Create any set and try to use frozenset(setname).**\n",
    "\n"
   ]
  },
  {
   "cell_type": "markdown",
   "metadata": {},
   "source": [
    "A set ia mutable and frozenset is immutable. we can not add or remove in frozenset once it is created.\n"
   ]
  },
  {
   "cell_type": "code",
   "execution_count": 7,
   "metadata": {},
   "outputs": [
    {
     "name": "stdout",
     "output_type": "stream",
     "text": [
      "{'mumbai', 'chennai', 'delhi'}\n"
     ]
    },
    {
     "ename": "AttributeError",
     "evalue": "'frozenset' object has no attribute 'add'",
     "output_type": "error",
     "traceback": [
      "\u001b[1;31m---------------------------------------------------------------------------\u001b[0m",
      "\u001b[1;31mAttributeError\u001b[0m                            Traceback (most recent call last)",
      "\u001b[1;32m<ipython-input-7-4d122091050a>\u001b[0m in \u001b[0;36m<module>\u001b[1;34m\u001b[0m\n\u001b[0;32m      3\u001b[0m \u001b[0ma\u001b[0m\u001b[1;33m=\u001b[0m\u001b[0mfrozenset\u001b[0m\u001b[1;33m(\u001b[0m\u001b[0mset\u001b[0m\u001b[1;33m)\u001b[0m\u001b[1;33m\u001b[0m\u001b[1;33m\u001b[0m\u001b[0m\n\u001b[0;32m      4\u001b[0m \u001b[0mprint\u001b[0m\u001b[1;33m(\u001b[0m\u001b[0mset\u001b[0m\u001b[1;33m)\u001b[0m\u001b[1;33m\u001b[0m\u001b[1;33m\u001b[0m\u001b[0m\n\u001b[1;32m----> 5\u001b[1;33m \u001b[0mb\u001b[0m\u001b[1;33m=\u001b[0m\u001b[0ma\u001b[0m\u001b[1;33m.\u001b[0m\u001b[0madd\u001b[0m\u001b[1;33m(\u001b[0m\u001b[0mbanglore\u001b[0m\u001b[1;33m)\u001b[0m\u001b[1;33m\u001b[0m\u001b[1;33m\u001b[0m\u001b[0m\n\u001b[0m\u001b[0;32m      6\u001b[0m \u001b[0mprint\u001b[0m\u001b[1;33m(\u001b[0m\u001b[0mb\u001b[0m\u001b[1;33m)\u001b[0m\u001b[1;33m\u001b[0m\u001b[1;33m\u001b[0m\u001b[0m\n",
      "\u001b[1;31mAttributeError\u001b[0m: 'frozenset' object has no attribute 'add'"
     ]
    }
   ],
   "source": [
    "set={\"mumbai\",\"delhi\",\"chennai\"}\n",
    "\n",
    "a=frozenset(set)\n",
    "print(set)\n",
    "b=a.add(banglore)\n",
    "print(b)"
   ]
  },
  {
   "cell_type": "markdown",
   "metadata": {},
   "source": [
    "2.**Find the elements in a given set that are not in another set**\n",
    "\n",
    "   * set1 = {10,20,30,40,50}\n",
    "\n",
    "   * set2 = {40,50,60,70,80}\n",
    "\n",
    " Difference between set1 and set2 is {10,20,30}"
   ]
  },
  {
   "cell_type": "code",
   "execution_count": 8,
   "metadata": {},
   "outputs": [
    {
     "name": "stdout",
     "output_type": "stream",
     "text": [
      "{10, 20, 30}\n"
     ]
    }
   ],
   "source": [
    "set1={10,20,30,40,50}\n",
    "\n",
    "set2 = {40,50,60,70,80}\n",
    "\n",
    "a= set1.difference(set2)\n",
    "\n",
    "print(a)"
   ]
  },
  {
   "cell_type": "code",
   "execution_count": null,
   "metadata": {},
   "outputs": [],
   "source": []
  }
 ],
 "metadata": {
  "kernelspec": {
   "display_name": "Python 3",
   "language": "python",
   "name": "python3"
  },
  "language_info": {
   "codemirror_mode": {
    "name": "ipython",
    "version": 3
   },
   "file_extension": ".py",
   "mimetype": "text/x-python",
   "name": "python",
   "nbconvert_exporter": "python",
   "pygments_lexer": "ipython3",
   "version": "3.8.5"
  }
 },
 "nbformat": 4,
 "nbformat_minor": 4
}
