{
 "cells": [
  {
   "cell_type": "markdown",
   "metadata": {},
   "source": [
    "# GO_STP_5823"
   ]
  },
  {
   "cell_type": "markdown",
   "metadata": {},
   "source": [
    "**1.Import the numpy package under the name np and Print the numpy version and the configuration**"
   ]
  },
  {
   "cell_type": "code",
   "execution_count": 1,
   "metadata": {},
   "outputs": [
    {
     "name": "stdout",
     "output_type": "stream",
     "text": [
      "1.19.2\n",
      "blas_mkl_info:\n",
      "    libraries = ['mkl_rt']\n",
      "    library_dirs = ['C:/Users/91834/anaconda\\\\Library\\\\lib']\n",
      "    define_macros = [('SCIPY_MKL_H', None), ('HAVE_CBLAS', None)]\n",
      "    include_dirs = ['C:/Users/91834/anaconda\\\\Library\\\\include']\n",
      "blas_opt_info:\n",
      "    libraries = ['mkl_rt']\n",
      "    library_dirs = ['C:/Users/91834/anaconda\\\\Library\\\\lib']\n",
      "    define_macros = [('SCIPY_MKL_H', None), ('HAVE_CBLAS', None)]\n",
      "    include_dirs = ['C:/Users/91834/anaconda\\\\Library\\\\include']\n",
      "lapack_mkl_info:\n",
      "    libraries = ['mkl_rt']\n",
      "    library_dirs = ['C:/Users/91834/anaconda\\\\Library\\\\lib']\n",
      "    define_macros = [('SCIPY_MKL_H', None), ('HAVE_CBLAS', None)]\n",
      "    include_dirs = ['C:/Users/91834/anaconda\\\\Library\\\\include']\n",
      "lapack_opt_info:\n",
      "    libraries = ['mkl_rt']\n",
      "    library_dirs = ['C:/Users/91834/anaconda\\\\Library\\\\lib']\n",
      "    define_macros = [('SCIPY_MKL_H', None), ('HAVE_CBLAS', None)]\n",
      "    include_dirs = ['C:/Users/91834/anaconda\\\\Library\\\\include']\n",
      "None\n"
     ]
    }
   ],
   "source": [
    "import numpy as np\n",
    "print(np.__version__)\n",
    "print(np.show_config())"
   ]
  },
  {
   "cell_type": "markdown",
   "metadata": {},
   "source": [
    "**2.Create a null vector of size 10**"
   ]
  },
  {
   "cell_type": "code",
   "execution_count": 2,
   "metadata": {},
   "outputs": [
    {
     "name": "stdout",
     "output_type": "stream",
     "text": [
      "[[0. 0. 0. 0. 0.]\n",
      " [0. 0. 0. 0. 0.]]\n",
      "size of the null vector is: 10\n"
     ]
    }
   ],
   "source": [
    "a=np.zeros((2,5))\n",
    "print(a)\n",
    "print(\"size of the null vector is:\",a.size)"
   ]
  },
  {
   "cell_type": "markdown",
   "metadata": {},
   "source": [
    "**3.Create Simple 1-D array and check type and check data types in array**"
   ]
  },
  {
   "cell_type": "code",
   "execution_count": 3,
   "metadata": {},
   "outputs": [
    {
     "name": "stdout",
     "output_type": "stream",
     "text": [
      "[1 2 3 4 5]\n",
      "The type of a is: <class 'numpy.ndarray'>\n",
      "Data types in array is: int32\n"
     ]
    }
   ],
   "source": [
    "a=np.array([1,2,3,4,5])\n",
    "print(a)\n",
    "print(\"The type of a is:\",type(a))\n",
    "print(\"Data types in array is:\",a.dtype)"
   ]
  },
  {
   "cell_type": "markdown",
   "metadata": {},
   "source": [
    "**4.How to find number of dimensions, bytes per element and bytes of memory used?**"
   ]
  },
  {
   "cell_type": "code",
   "execution_count": 5,
   "metadata": {},
   "outputs": [
    {
     "name": "stdout",
     "output_type": "stream",
     "text": [
      "dimensions of array: 2\n",
      "Bytes per element: 4\n",
      "Bytes used in array: 24\n"
     ]
    }
   ],
   "source": [
    "arr=np.array([[1,2,3],[6,7,8]])\n",
    "print(\"dimensions of array:\",arr.ndim)\n",
    "print(\"Bytes per element:\",arr.itemsize)\n",
    "print(\"Bytes used in array:\",arr.nbytes)"
   ]
  },
  {
   "cell_type": "markdown",
   "metadata": {},
   "source": [
    "**5.Create a null vector of size 10 but the fifth value which is 1**"
   ]
  },
  {
   "cell_type": "code",
   "execution_count": 6,
   "metadata": {},
   "outputs": [
    {
     "name": "stdout",
     "output_type": "stream",
     "text": [
      "[[0. 0. 0. 0. 1.]\n",
      " [0. 0. 0. 0. 0.]]\n"
     ]
    }
   ],
   "source": [
    "a=np.zeros((2,5))\n",
    "a[0,4]=1\n",
    "print(a)"
   ]
  },
  {
   "cell_type": "markdown",
   "metadata": {},
   "source": [
    "**6.Create a vector with values ranging from 10 to 49**"
   ]
  },
  {
   "cell_type": "code",
   "execution_count": 7,
   "metadata": {},
   "outputs": [
    {
     "name": "stdout",
     "output_type": "stream",
     "text": [
      "[10 11 12 13 14 15 16 17 18 19 20 21 22 23 24 25 26 27 28 29 30 31 32 33\n",
      " 34 35 36 37 38 39 40 41 42 43 44 45 46 47 48 49]\n"
     ]
    }
   ],
   "source": [
    "a=np.arange(10,50)\n",
    "print(a)"
   ]
  },
  {
   "cell_type": "markdown",
   "metadata": {},
   "source": [
    "**7.Reverse a vector (first element becomes last)**"
   ]
  },
  {
   "cell_type": "code",
   "execution_count": 9,
   "metadata": {},
   "outputs": [
    {
     "name": "stdout",
     "output_type": "stream",
     "text": [
      "[1 2 3 4 5 6 7 8]\n",
      "Reverse of the vector: [8 7 6 5 4 3 2 1]\n"
     ]
    }
   ],
   "source": [
    "arr1=np.arange(1,9)\n",
    "print(arr1)\n",
    "print(\"Reverse of the vector:\",arr1[::-1])"
   ]
  },
  {
   "cell_type": "markdown",
   "metadata": {},
   "source": [
    "**8.Create a 3x3 matrix with values ranging from 0 to 8**"
   ]
  },
  {
   "cell_type": "code",
   "execution_count": 10,
   "metadata": {},
   "outputs": [
    {
     "name": "stdout",
     "output_type": "stream",
     "text": [
      "[[0 1 2]\n",
      " [3 4 5]\n",
      " [6 7 8]]\n"
     ]
    }
   ],
   "source": [
    "a=np.arange(0,9).reshape((3,3))\n",
    "print(a)"
   ]
  },
  {
   "cell_type": "markdown",
   "metadata": {},
   "source": [
    "**9.Find indices of non-zero elements from [1,2,0,0,4,0]**"
   ]
  },
  {
   "cell_type": "code",
   "execution_count": 12,
   "metadata": {},
   "outputs": [
    {
     "name": "stdout",
     "output_type": "stream",
     "text": [
      "[1 2 0 0 4 0]\n",
      "non_zero elements of the array: [1 2 4]\n"
     ]
    }
   ],
   "source": [
    "a=np.array([1,2,0,0,4,0])\n",
    "print(a)\n",
    "print(\"non_zero elements of the array:\",a[np.nonzero(a)])"
   ]
  },
  {
   "cell_type": "markdown",
   "metadata": {},
   "source": [
    "**10.Create a 3x3 identity matrix**"
   ]
  },
  {
   "cell_type": "code",
   "execution_count": 13,
   "metadata": {},
   "outputs": [
    {
     "name": "stdout",
     "output_type": "stream",
     "text": [
      "[[1. 0. 0.]\n",
      " [0. 1. 0.]\n",
      " [0. 0. 1.]]\n"
     ]
    }
   ],
   "source": [
    "i=np.identity(3)\n",
    "print(i)"
   ]
  },
  {
   "cell_type": "markdown",
   "metadata": {},
   "source": [
    "**11.Create a 3x3x3 array with random values**"
   ]
  },
  {
   "cell_type": "code",
   "execution_count": 14,
   "metadata": {},
   "outputs": [
    {
     "name": "stdout",
     "output_type": "stream",
     "text": [
      "[[[7.42142172e-01 4.69967212e-01 5.13326926e-02]\n",
      "  [7.77637711e-01 9.44383607e-01 4.04012840e-01]\n",
      "  [8.35250964e-01 1.40689047e-01 8.53823322e-01]]\n",
      "\n",
      " [[8.01830152e-01 4.43848365e-01 4.72444517e-04]\n",
      "  [5.12806865e-01 6.34983327e-01 9.03479966e-01]\n",
      "  [6.58552007e-01 2.54044174e-01 1.46679736e-01]]\n",
      "\n",
      " [[4.13803334e-01 6.44978550e-01 1.61009557e-01]\n",
      "  [4.42754440e-01 5.84697559e-01 5.60522179e-01]\n",
      "  [1.33723113e-01 8.16803368e-01 7.00631295e-01]]]\n"
     ]
    }
   ],
   "source": [
    "a=np.random.rand(3,3,3)\n",
    "print(a)"
   ]
  },
  {
   "cell_type": "markdown",
   "metadata": {},
   "source": [
    "**12.Create a 10x10 array with random values and find the minimum and maximum values**"
   ]
  },
  {
   "cell_type": "code",
   "execution_count": 15,
   "metadata": {},
   "outputs": [
    {
     "name": "stdout",
     "output_type": "stream",
     "text": [
      "[[0.18224151 0.99662796 0.42441753 0.15569974 0.96847197 0.36506645\n",
      "  0.65357888 0.75995263 0.61932844 0.46474711]\n",
      " [0.46482213 0.82624297 0.5047918  0.24935346 0.84048927 0.7761587\n",
      "  0.94360297 0.1487879  0.60461068 0.5350373 ]\n",
      " [0.32412986 0.31738552 0.34841387 0.34242752 0.80473157 0.92900087\n",
      "  0.36275888 0.74566499 0.67841072 0.56949579]\n",
      " [0.20175335 0.66937964 0.49749349 0.73441933 0.24023771 0.78951408\n",
      "  0.91392604 0.78735135 0.70385941 0.3018343 ]\n",
      " [0.63980668 0.74994478 0.7882948  0.8598123  0.08107866 0.17309629\n",
      "  0.56181798 0.82865392 0.30191982 0.79509785]\n",
      " [0.53050182 0.50023879 0.23183473 0.38631579 0.44898166 0.46606197\n",
      "  0.21654531 0.71471284 0.10232872 0.02724918]\n",
      " [0.83586848 0.15423756 0.75374717 0.32859112 0.88456193 0.35590149\n",
      "  0.35403611 0.59177173 0.72253648 0.28843411]\n",
      " [0.22456551 0.54320112 0.00332777 0.26515584 0.18418507 0.50211044\n",
      "  0.60453645 0.57835144 0.93730476 0.41433324]\n",
      " [0.52564665 0.50966775 0.91444713 0.34396226 0.03036749 0.92691978\n",
      "  0.27654847 0.07160258 0.39052091 0.30400959]\n",
      " [0.74230656 0.65005156 0.24930835 0.738935   0.8476295  0.86644114\n",
      "  0.00719272 0.90092663 0.28881837 0.29883313]]\n"
     ]
    }
   ],
   "source": [
    "a=np.random.rand(10,10)\n",
    "print(a)"
   ]
  },
  {
   "cell_type": "code",
   "execution_count": 17,
   "metadata": {},
   "outputs": [
    {
     "name": "stdout",
     "output_type": "stream",
     "text": [
      "minimum value 0.003327769517428303\n",
      "minimum value 0.9966279603344235\n"
     ]
    }
   ],
   "source": [
    "print(\"minimum value\",a.min())\n",
    "print(\"minimum value\",a.max())"
   ]
  },
  {
   "cell_type": "markdown",
   "metadata": {},
   "source": [
    "**13.Create a random vector of size 30 and find the mean value**"
   ]
  },
  {
   "cell_type": "code",
   "execution_count": 19,
   "metadata": {},
   "outputs": [
    {
     "name": "stdout",
     "output_type": "stream",
     "text": [
      "[0.00367733 0.40536823 0.76650939 0.75674658 0.42706144 0.37370023\n",
      " 0.4417622  0.01611679 0.57753143 0.05351725 0.10377457 0.8033153\n",
      " 0.9609871  0.0683123  0.69919205 0.60725538 0.4532463  0.26696488\n",
      " 0.32900633 0.88757857 0.51978381 0.27421873 0.7169015  0.43873658\n",
      " 0.1382961  0.63636786 0.0311733  0.66388562 0.70184329 0.98282435]\n"
     ]
    }
   ],
   "source": [
    "arr1=np.random.rand(30)\n",
    "print(arr1)"
   ]
  },
  {
   "cell_type": "code",
   "execution_count": 20,
   "metadata": {},
   "outputs": [
    {
     "name": "stdout",
     "output_type": "stream",
     "text": [
      "mean value is 0.4701884927548834\n"
     ]
    }
   ],
   "source": [
    "print(\"mean value is\",arr1.mean())"
   ]
  },
  {
   "cell_type": "markdown",
   "metadata": {},
   "source": [
    "**14.Create a 2d array with 1 on the border and 0 inside**"
   ]
  },
  {
   "cell_type": "code",
   "execution_count": 21,
   "metadata": {},
   "outputs": [
    {
     "name": "stdout",
     "output_type": "stream",
     "text": [
      "[[1. 1. 1. 1. 1. 1.]\n",
      " [1. 0. 0. 0. 0. 1.]\n",
      " [1. 0. 0. 0. 0. 1.]\n",
      " [1. 0. 0. 0. 0. 1.]\n",
      " [1. 0. 0. 0. 0. 1.]\n",
      " [1. 1. 1. 1. 1. 1.]]\n"
     ]
    }
   ],
   "source": [
    "arr1=np.ones((6,6))\n",
    "arr1[1:-1,1:-1]=0\n",
    "print(arr1)"
   ]
  },
  {
   "cell_type": "markdown",
   "metadata": {},
   "source": [
    "**15.How to add a border (filled with 0's) around an existing array?**"
   ]
  },
  {
   "cell_type": "code",
   "execution_count": 22,
   "metadata": {},
   "outputs": [
    {
     "name": "stdout",
     "output_type": "stream",
     "text": [
      "[[0 0 0 0 0 0]\n",
      " [0 2 0 1 3 0]\n",
      " [0 2 3 0 3 0]\n",
      " [0 3 3 2 0 0]\n",
      " [0 2 3 3 3 0]\n",
      " [0 0 0 0 0 0]]\n"
     ]
    }
   ],
   "source": [
    "arr2=np.random.randint(5,size=(4,4))\n",
    "arr2=np.pad(arr2,pad_width=1,constant_values=0)\n",
    "print(arr2)"
   ]
  },
  {
   "cell_type": "markdown",
   "metadata": {},
   "source": [
    "**16.How to Accessing/Changing specific elements, rows, columns, etc in Numpy array?**"
   ]
  },
  {
   "cell_type": "code",
   "execution_count": 26,
   "metadata": {},
   "outputs": [
    {
     "name": "stdout",
     "output_type": "stream",
     "text": [
      "13\n",
      "[2 4 6]\n",
      "[[ 1  2  3  4  5  6  7]\n",
      " [ 8  9 10 11 12 20 14]]\n"
     ]
    }
   ],
   "source": [
    "arr=np.array([[1,2,3,4,5,6,7],[8,9,10,11,12,13,14]])\n",
    "# to get \n",
    "print(arr[1,5])\n",
    "# to get the column\n",
    "print(arr[0,[1,3,5]])\n",
    "#replacing 13 by 20\n",
    "arr[1,5]=20\n",
    "print(arr)\n"
   ]
  },
  {
   "cell_type": "markdown",
   "metadata": {},
   "source": [
    "**17.How to Convert a 1D array to a 2D array with 2 rows**"
   ]
  },
  {
   "cell_type": "code",
   "execution_count": 27,
   "metadata": {},
   "outputs": [
    {
     "name": "stdout",
     "output_type": "stream",
     "text": [
      "[1. 2. 3. 4. 5. 6.]\n",
      "dimension of array: 1\n",
      "[[1. 2. 3.]\n",
      " [4. 5. 6.]]\n",
      "dimension of array after reshaping: 2\n"
     ]
    }
   ],
   "source": [
    "arr1=np.linspace(1,6,6)\n",
    "print(arr1)\n",
    "print(\"dimension of array:\",arr1.ndim)\n",
    "arr2=arr1.reshape((2,3))\n",
    "print(arr2)\n",
    "print(\"dimension of array after reshaping:\",arr2.ndim)\n"
   ]
  },
  {
   "cell_type": "markdown",
   "metadata": {},
   "source": [
    "**18.Create the following pattern without hardcoding. Use only numpy functions and the below input array a.**\n",
    "\n",
    "* Input: a = np.array([1,2,3])`\n",
    "* array([1, 1, 1, 2, 2, 2, 3, 3, 3, 1, 2, 3, 1, 2, 3, 1, 2, 3])\n"
   ]
  },
  {
   "cell_type": "code",
   "execution_count": 28,
   "metadata": {},
   "outputs": [
    {
     "data": {
      "text/plain": [
       "array([1, 1, 1, 2, 2, 2, 3, 3, 3, 1, 2, 3, 1, 2, 3, 1, 2, 3])"
      ]
     },
     "execution_count": 28,
     "metadata": {},
     "output_type": "execute_result"
    }
   ],
   "source": [
    "a=np.array([1,2,3])\n",
    "a1=a.repeat(3),np.tile(a,3)\n",
    "np.concatenate(a1)"
   ]
  },
  {
   "cell_type": "markdown",
   "metadata": {},
   "source": [
    "**19.Write a program to show how Numpy taking less memory compared to Python List?**"
   ]
  },
  {
   "cell_type": "code",
   "execution_count": 29,
   "metadata": {},
   "outputs": [
    {
     "name": "stdout",
     "output_type": "stream",
     "text": [
      "memory used by listst: 28000\n",
      "memory used by numpy: 4000\n"
     ]
    }
   ],
   "source": [
    "import sys\n",
    "a=1\n",
    "list1=range(1000)\n",
    "arr1=np.arange(1000)\n",
    "#memory size of list\n",
    "print(\"memory used by listst:\",sys.getsizeof(a)*len(list1))\n",
    "#memory size of numpy array\n",
    "print(\"memory used by numpy:\",arr1.size*arr1.itemsize)"
   ]
  },
  {
   "cell_type": "markdown",
   "metadata": {},
   "source": [
    "**20.Write a program to show how Numpy taking less time compared to Python List?**"
   ]
  },
  {
   "cell_type": "code",
   "execution_count": 30,
   "metadata": {},
   "outputs": [
    {
     "name": "stdout",
     "output_type": "stream",
     "text": [
      "time taken in lists 189.82553482055664\n",
      "time taken in numpy arrays -1620857157167.7542\n"
     ]
    }
   ],
   "source": [
    "import time\n",
    "size=1000000\n",
    "l1=range(size)\n",
    "l2=range(size)\n",
    "start=time.time()\n",
    "result=[(x*y) for x,y in zip(l1,l2)]\n",
    "print(\"time taken in lists\",(time.time()-start)*1000)\n",
    "size=1000000\n",
    "n1=np.arange(size)\n",
    "n2=np.arange(size)\n",
    "start=time.time()\n",
    "result1=n1*2\n",
    "print(\"time taken in numpy arrays\",(time.time()-start*1000))"
   ]
  },
  {
   "cell_type": "code",
   "execution_count": null,
   "metadata": {},
   "outputs": [],
   "source": []
  }
 ],
 "metadata": {
  "kernelspec": {
   "display_name": "Python 3",
   "language": "python",
   "name": "python3"
  },
  "language_info": {
   "codemirror_mode": {
    "name": "ipython",
    "version": 3
   },
   "file_extension": ".py",
   "mimetype": "text/x-python",
   "name": "python",
   "nbconvert_exporter": "python",
   "pygments_lexer": "ipython3",
   "version": "3.8.5"
  }
 },
 "nbformat": 4,
 "nbformat_minor": 4
}
